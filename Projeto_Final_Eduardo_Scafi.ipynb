{
 "cells": [
  {
   "cell_type": "markdown",
   "id": "c597e272",
   "metadata": {},
   "source": [
    "# Projeto final HUB 2025"
   ]
  },
  {
   "cell_type": "markdown",
   "id": "6e567d54",
   "metadata": {},
   "source": [
    "## Análise exploratória"
   ]
  },
  {
   "cell_type": "markdown",
   "id": "142bf033",
   "metadata": {},
   "source": [
    " ##### Bibliotecas utilizadas"
   ]
  },
  {
   "cell_type": "code",
   "execution_count": 1,
   "id": "711e7900",
   "metadata": {},
   "outputs": [],
   "source": [
    "import numpy as np\n",
    "import pandas as pd\n",
    "import matplotlib.pyplot as plt\n",
    "import seaborn as sns\n",
    "from sklearn.model_selection import train_test_split, cross_val_score, cross_val_predict\n",
    "from sklearn.preprocessing import StandardScaler, MinMaxScaler, LabelEncoder, OneHotEncoder\n",
    "from sklearn.compose import ColumnTransformer\n",
    "from sklearn.pipeline import Pipeline\n",
    "from sklearn.metrics import (\n",
    "    classification_report,\n",
    "    confusion_matrix,\n",
    "    accuracy_score,\n",
    "    balanced_accuracy_score,\n",
    "    recall_score,\n",
    "    matthews_corrcoef,\n",
    "    jaccard_score, hamming_loss\n",
    ")\n",
    "from sklearn.neighbors import KNeighborsClassifier\n",
    "from sklearn.tree import DecisionTreeClassifier, plot_tree\n",
    "from sklearn.svm import SVC\n",
    "from sklearn.ensemble import RandomForestClassifier\n",
    "from sklearn.multioutput import MultiOutputClassifier"
   ]
  },
  {
   "cell_type": "markdown",
   "id": "8bdf9d65",
   "metadata": {},
   "source": [
    "### Análise inicial do DataFrame"
   ]
  },
  {
   "cell_type": "code",
   "execution_count": 2,
   "id": "96009f80",
   "metadata": {},
   "outputs": [
    {
     "name": "stdout",
     "output_type": "stream",
     "text": [
      "<class 'pandas.core.frame.DataFrame'>\n",
      "RangeIndex: 35260 entries, 0 to 35259\n",
      "Data columns (total 15 columns):\n",
      " #   Column                           Non-Null Count  Dtype  \n",
      "---  ------                           --------------  -----  \n",
      " 0   id                               35260 non-null  int64  \n",
      " 1   id_produto                       35260 non-null  object \n",
      " 2   tipo                             35260 non-null  object \n",
      " 3   temperatura_ar                   34644 non-null  float64\n",
      " 4   temperatura_processo             34661 non-null  float64\n",
      " 5   umidade_relativa                 35260 non-null  float64\n",
      " 6   velocidade_rotacional            34509 non-null  float64\n",
      " 7   torque                           34637 non-null  float64\n",
      " 8   desgaste_da_ferramenta           34308 non-null  float64\n",
      " 9   falha_maquina                    35260 non-null  object \n",
      " 10  FDF (Falha Desgaste Ferramenta)  35260 non-null  object \n",
      " 11  FDC (Falha Dissipacao Calor)     35260 non-null  object \n",
      " 12  FP (Falha Potencia)              35260 non-null  object \n",
      " 13  FTE (Falha Tensao Excessiva)     35260 non-null  bool   \n",
      " 14  FA (Falha Aleatoria)             35260 non-null  object \n",
      "dtypes: bool(1), float64(6), int64(1), object(7)\n",
      "memory usage: 3.8+ MB\n"
     ]
    }
   ],
   "source": [
    "df = pd.read_csv('bootcamp_train.csv')\n",
    "df.info()"
   ]
  },
  {
   "cell_type": "code",
   "execution_count": 3,
   "id": "7d2b2e79",
   "metadata": {},
   "outputs": [
    {
     "data": {
      "text/html": [
       "<div>\n",
       "<style scoped>\n",
       "    .dataframe tbody tr th:only-of-type {\n",
       "        vertical-align: middle;\n",
       "    }\n",
       "\n",
       "    .dataframe tbody tr th {\n",
       "        vertical-align: top;\n",
       "    }\n",
       "\n",
       "    .dataframe thead th {\n",
       "        text-align: right;\n",
       "    }\n",
       "</style>\n",
       "<table border=\"1\" class=\"dataframe\">\n",
       "  <thead>\n",
       "    <tr style=\"text-align: right;\">\n",
       "      <th></th>\n",
       "      <th>id</th>\n",
       "      <th>id_produto</th>\n",
       "      <th>tipo</th>\n",
       "      <th>temperatura_ar</th>\n",
       "      <th>temperatura_processo</th>\n",
       "      <th>umidade_relativa</th>\n",
       "      <th>velocidade_rotacional</th>\n",
       "      <th>torque</th>\n",
       "      <th>desgaste_da_ferramenta</th>\n",
       "      <th>falha_maquina</th>\n",
       "      <th>FDF (Falha Desgaste Ferramenta)</th>\n",
       "      <th>FDC (Falha Dissipacao Calor)</th>\n",
       "      <th>FP (Falha Potencia)</th>\n",
       "      <th>FTE (Falha Tensao Excessiva)</th>\n",
       "      <th>FA (Falha Aleatoria)</th>\n",
       "    </tr>\n",
       "  </thead>\n",
       "  <tbody>\n",
       "    <tr>\n",
       "      <th>0</th>\n",
       "      <td>0</td>\n",
       "      <td>L56434</td>\n",
       "      <td>L</td>\n",
       "      <td>298.3</td>\n",
       "      <td>309.1</td>\n",
       "      <td>90.0</td>\n",
       "      <td>1616.0</td>\n",
       "      <td>31.1</td>\n",
       "      <td>195.0</td>\n",
       "      <td>não</td>\n",
       "      <td>False</td>\n",
       "      <td>False</td>\n",
       "      <td>Não</td>\n",
       "      <td>False</td>\n",
       "      <td>Não</td>\n",
       "    </tr>\n",
       "    <tr>\n",
       "      <th>1</th>\n",
       "      <td>1</td>\n",
       "      <td>L48741</td>\n",
       "      <td>L</td>\n",
       "      <td>298.2</td>\n",
       "      <td>308.4</td>\n",
       "      <td>90.0</td>\n",
       "      <td>1388.0</td>\n",
       "      <td>53.8</td>\n",
       "      <td>137.0</td>\n",
       "      <td>Não</td>\n",
       "      <td>False</td>\n",
       "      <td>False</td>\n",
       "      <td>Não</td>\n",
       "      <td>False</td>\n",
       "      <td>Não</td>\n",
       "    </tr>\n",
       "    <tr>\n",
       "      <th>2</th>\n",
       "      <td>2</td>\n",
       "      <td>L48850</td>\n",
       "      <td>L</td>\n",
       "      <td>298.2</td>\n",
       "      <td>307.8</td>\n",
       "      <td>90.0</td>\n",
       "      <td>1528.0</td>\n",
       "      <td>31.1</td>\n",
       "      <td>NaN</td>\n",
       "      <td>Não</td>\n",
       "      <td>N</td>\n",
       "      <td>False</td>\n",
       "      <td>Não</td>\n",
       "      <td>False</td>\n",
       "      <td>Não</td>\n",
       "    </tr>\n",
       "    <tr>\n",
       "      <th>3</th>\n",
       "      <td>3</td>\n",
       "      <td>M20947</td>\n",
       "      <td>M</td>\n",
       "      <td>300.9</td>\n",
       "      <td>310.8</td>\n",
       "      <td>90.0</td>\n",
       "      <td>1599.0</td>\n",
       "      <td>33.0</td>\n",
       "      <td>7.0</td>\n",
       "      <td>não</td>\n",
       "      <td>False</td>\n",
       "      <td>False</td>\n",
       "      <td>Não</td>\n",
       "      <td>False</td>\n",
       "      <td>não</td>\n",
       "    </tr>\n",
       "    <tr>\n",
       "      <th>4</th>\n",
       "      <td>4</td>\n",
       "      <td>L53849</td>\n",
       "      <td>L</td>\n",
       "      <td>-36.0</td>\n",
       "      <td>310.5</td>\n",
       "      <td>90.0</td>\n",
       "      <td>1571.0</td>\n",
       "      <td>33.9</td>\n",
       "      <td>NaN</td>\n",
       "      <td>não</td>\n",
       "      <td>N</td>\n",
       "      <td>False</td>\n",
       "      <td>não</td>\n",
       "      <td>False</td>\n",
       "      <td>Não</td>\n",
       "    </tr>\n",
       "  </tbody>\n",
       "</table>\n",
       "</div>"
      ],
      "text/plain": [
       "   id id_produto tipo  temperatura_ar  temperatura_processo  umidade_relativa  \\\n",
       "0   0     L56434    L           298.3                 309.1              90.0   \n",
       "1   1     L48741    L           298.2                 308.4              90.0   \n",
       "2   2     L48850    L           298.2                 307.8              90.0   \n",
       "3   3     M20947    M           300.9                 310.8              90.0   \n",
       "4   4     L53849    L           -36.0                 310.5              90.0   \n",
       "\n",
       "   velocidade_rotacional  torque  desgaste_da_ferramenta falha_maquina  \\\n",
       "0                 1616.0    31.1                   195.0           não   \n",
       "1                 1388.0    53.8                   137.0           Não   \n",
       "2                 1528.0    31.1                     NaN           Não   \n",
       "3                 1599.0    33.0                     7.0           não   \n",
       "4                 1571.0    33.9                     NaN           não   \n",
       "\n",
       "  FDF (Falha Desgaste Ferramenta) FDC (Falha Dissipacao Calor)  \\\n",
       "0                           False                        False   \n",
       "1                           False                        False   \n",
       "2                               N                        False   \n",
       "3                           False                        False   \n",
       "4                               N                        False   \n",
       "\n",
       "  FP (Falha Potencia)  FTE (Falha Tensao Excessiva) FA (Falha Aleatoria)  \n",
       "0                 Não                         False                  Não  \n",
       "1                 Não                         False                  Não  \n",
       "2                 Não                         False                  Não  \n",
       "3                 Não                         False                  não  \n",
       "4                 não                         False                  Não  "
      ]
     },
     "execution_count": 3,
     "metadata": {},
     "output_type": "execute_result"
    }
   ],
   "source": [
    "df.head()"
   ]
  },
  {
   "cell_type": "markdown",
   "id": "1b327555",
   "metadata": {},
   "source": [
    "#####  - Variáveis categóricas: id_produto, tipo, falha máquina, FDF (Falha Desgaste Ferramenta), FDC (Falha Dissipacao Calor), FP (Falha Potencia) e FA (Falha Aleatoria).\n",
    "\n",
    "##### - Variável numérica discreta: id.\n",
    "\n",
    "##### - Variáveis numéricas contínuas: temperatura_ar, temperatura_processo, umidade_relativa, velocidade_rotacional, torque, desgaste_da_ferramenta.\n",
    "\n",
    "##### - Variável booleana: FA (Falha Aleatoria)."
   ]
  },
  {
   "cell_type": "code",
   "execution_count": 4,
   "id": "6f56bc29",
   "metadata": {},
   "outputs": [
    {
     "name": "stdout",
     "output_type": "stream",
     "text": [
      "                                 valores_unicos  valores_nulos\n",
      "id                                        35260              0\n",
      "id_produto                                 9708              0\n",
      "tipo                                          3              0\n",
      "temperatura_ar                               94            616\n",
      "temperatura_processo                         83            599\n",
      "umidade_relativa                             36              0\n",
      "velocidade_rotacional                       916            751\n",
      "torque                                      579            623\n",
      "desgaste_da_ferramenta                      247            952\n",
      "falha_maquina                                 8              0\n",
      "FDF (Falha Desgaste Ferramenta)               6              0\n",
      "FDC (Falha Dissipacao Calor)                  6              0\n",
      "FP (Falha Potencia)                           8              0\n",
      "FTE (Falha Tensao Excessiva)                  2              0\n",
      "FA (Falha Aleatoria)                          7              0\n"
     ]
    }
   ],
   "source": [
    "# Contagem valores únicos e nulos por coluna\n",
    "uni = df.nunique()\n",
    "null = df.isnull().sum()\n",
    "print(pd.DataFrame({'valores_unicos': uni, 'valores_nulos': null}))"
   ]
  },
  {
   "cell_type": "code",
   "execution_count": 5,
   "id": "c7ad5a36",
   "metadata": {},
   "outputs": [
    {
     "name": "stdout",
     "output_type": "stream",
     "text": [
      "                                 valores_unicos  valores_nulos\n",
      "id                                        31859              0\n",
      "id_produto                                 9526              0\n",
      "tipo                                          3              0\n",
      "temperatura_ar                               94              0\n",
      "temperatura_processo                         83              0\n",
      "umidade_relativa                             16              0\n",
      "velocidade_rotacional                       902              0\n",
      "torque                                      574              0\n",
      "desgaste_da_ferramenta                      247              0\n",
      "falha_maquina                                 8              0\n",
      "FDF (Falha Desgaste Ferramenta)               6              0\n",
      "FDC (Falha Dissipacao Calor)                  6              0\n",
      "FP (Falha Potencia)                           8              0\n",
      "FTE (Falha Tensao Excessiva)                  2              0\n",
      "FA (Falha Aleatoria)                          7              0\n"
     ]
    }
   ],
   "source": [
    "# Remover linhas com valores nulos\n",
    "df.dropna(inplace=True)\n",
    "\n",
    "# Contagem valores únicos e nulos por coluna após remoção de nulos\n",
    "uni = df.nunique()\n",
    "null = df.isnull().sum()\n",
    "print(pd.DataFrame({'valores_unicos': uni, 'valores_nulos': null}))"
   ]
  },
  {
   "cell_type": "code",
   "execution_count": 6,
   "id": "0899125f",
   "metadata": {},
   "outputs": [
    {
     "name": "stdout",
     "output_type": "stream",
     "text": [
      "                 id  temperatura_ar  temperatura_processo  umidade_relativa  \\\n",
      "count  31859.000000    31859.000000          31859.000000      31859.000000   \n",
      "mean   17657.000471      270.005713            280.441266         89.999319   \n",
      "std    10171.082805       95.674381             96.969888          0.096583   \n",
      "min        0.000000      -36.000000            -38.000000         80.747640   \n",
      "25%     8846.500000      297.900000            308.500000         90.000000   \n",
      "50%    17696.000000      299.600000            309.800000         90.000000   \n",
      "75%    26457.500000      301.100000            310.900000         90.000000   \n",
      "max    35259.000000      304.500000            313.800000         94.575256   \n",
      "\n",
      "       velocidade_rotacional        torque  desgaste_da_ferramenta  \n",
      "count           31859.000000  31859.000000            31859.000000  \n",
      "mean             1379.723877     40.230137               75.433347  \n",
      "std               494.062814      8.824906              109.108695  \n",
      "min              -161.000000      3.800000             -202.000000  \n",
      "25%              1408.000000     34.400000               29.000000  \n",
      "50%              1483.000000     40.400000               95.000000  \n",
      "75%              1573.000000     46.200000              155.000000  \n",
      "max              2886.000000     76.600000              253.000000  \n"
     ]
    }
   ],
   "source": [
    "# Estatísticas descritivas para variáveis numéricas contínuas\n",
    "df.describe()\n",
    "print(df.describe())"
   ]
  },
  {
   "cell_type": "markdown",
   "id": "a5f8087e",
   "metadata": {},
   "source": [
    "### Análise univariada da variável 'tipo'"
   ]
  },
  {
   "cell_type": "code",
   "execution_count": 7,
   "id": "6dd2b655",
   "metadata": {},
   "outputs": [
    {
     "data": {
      "text/plain": [
       "tipo\n",
       "L    67.764211\n",
       "M    24.862676\n",
       "H     7.373113\n",
       "Name: proportion, dtype: float64"
      ]
     },
     "execution_count": 7,
     "metadata": {},
     "output_type": "execute_result"
    }
   ],
   "source": [
    "# Distribuição percentual para variável categórica 'tipo'\n",
    "df['tipo'].value_counts(normalize=True)*100  "
   ]
  },
  {
   "cell_type": "code",
   "execution_count": 8,
   "id": "e0553ac3",
   "metadata": {},
   "outputs": [
    {
     "data": {
      "image/png": "[encoded data removed]",
      "text/plain": [
       "<Figure size 640x480 with 1 Axes>"
      ]
     },
     "metadata": {},
     "output_type": "display_data"
    }
   ],
   "source": [
    "# Gráfico de barras para variável categórica 'tipo'\n",
    "ax = df['tipo'].value_counts(normalize=True).plot(kind='bar')\n",
    "ax.set_xlabel('Tipo de Máquina')\n",
    "ax.set_ylabel('Proporção')\n",
    "plt.xticks(rotation=0)\n",
    "plt.show()"
   ]
  },
  {
   "cell_type": "markdown",
   "id": "21dd6647",
   "metadata": {},
   "source": [
    "#### Quase 70% das máquinas são tipo 'L'."
   ]
  },
  {
   "cell_type": "markdown",
   "id": "269c1b39",
   "metadata": {},
   "source": [
    "### Análise univariada e tratamento das variáveis de falha."
   ]
  },
  {
   "cell_type": "markdown",
   "id": "59913b5b",
   "metadata": {},
   "source": [
    "##### Variável falha_maquina"
   ]
  },
  {
   "cell_type": "code",
   "execution_count": 9,
   "id": "106dab57",
   "metadata": {},
   "outputs": [
    {
     "name": "stdout",
     "output_type": "stream",
     "text": [
      "Antes do tratamento:\n",
      "falha_maquina\n",
      "Não    62.161399\n",
      "não    32.107097\n",
      "N       1.946075\n",
      "0       1.927242\n",
      "Sim     1.167645\n",
      "sim     0.621488\n",
      "1       0.034527\n",
      "y       0.034527\n",
      "Name: proportion, dtype: float64\n",
      "\n",
      "Após remoção de y, 1, 0, N:\n",
      "falha_maquina\n",
      "Não    64.712610\n",
      "não    33.424828\n",
      "Sim     1.215567\n",
      "sim     0.646995\n",
      "Name: proportion, dtype: float64\n",
      "\n",
      "Após padronização (Sim/Não):\n",
      "falha_maquina\n",
      "Não    98.137438\n",
      "Sim     1.862562\n",
      "Name: proportion, dtype: float64\n"
     ]
    },
    {
     "data": {
      "image/png": "[encoded data removed]",
      "text/plain": [
       "<Figure size 640x480 with 1 Axes>"
      ]
     },
     "metadata": {},
     "output_type": "display_data"
    }
   ],
   "source": [
    "# Distribuição percentual para variável categórica 'falha_maquina' (antes do tratamento)\n",
    "print(\"Antes do tratamento:\")\n",
    "print(df['falha_maquina'].value_counts(normalize=True) * 100)\n",
    "\n",
    "# Eliminação das linhas indesejadas\n",
    "df = df[~df['falha_maquina'].isin(['y', '1', '0', 'N'])]\n",
    "\n",
    "# Distribuição após remoção\n",
    "print(\"\\nApós remoção de y, 1, 0, N:\")\n",
    "print(df['falha_maquina'].value_counts(normalize=True) * 100)\n",
    "\n",
    "# Padronizar os valores para 'Sim' e 'Não'\n",
    "df['falha_maquina'] = df['falha_maquina'].replace({'não': 'Não', 'sim': 'Sim'})\n",
    "\n",
    "# Distribuição final após padronização\n",
    "print(\"\\nApós padronização (Sim/Não):\")\n",
    "print(df['falha_maquina'].value_counts(normalize=True) * 100)\n",
    "\n",
    "# Gráfico de barras para variável categórica 'falha_maquina' após tratamento\n",
    "ax = df['falha_maquina'].value_counts(normalize=True).plot(kind='bar')\n",
    "ax.set_xlabel('Falha na Máquina')\n",
    "ax.set_ylabel('Proporção')\n",
    "plt.xticks(rotation=0)\n",
    "plt.show()"
   ]
  },
  {
   "cell_type": "markdown",
   "id": "2edd2b84",
   "metadata": {},
   "source": [
    "##### Variável FDF (Falha Desgaste ferramenta)"
   ]
  },
  {
   "cell_type": "code",
   "execution_count": 10,
   "id": "c6fe7823",
   "metadata": {},
   "outputs": [
    {
     "name": "stdout",
     "output_type": "stream",
     "text": [
      "Antes do tratamento:\n",
      "FDF (Falha Desgaste Ferramenta)\n",
      "False    95.699768\n",
      "N         1.957324\n",
      "0         1.947521\n",
      "True      0.199327\n",
      "-         0.192792\n",
      "1         0.003268\n",
      "Name: proportion, dtype: float64\n",
      "\n",
      "Após remoção de -, 1, 0, N:\n",
      "FDF (Falha Desgaste Ferramenta)\n",
      "False    99.792149\n",
      "True      0.207851\n",
      "Name: proportion, dtype: float64\n",
      "\n",
      "Após padronização (Sim/Não):\n",
      "FDF (Falha Desgaste Ferramenta)\n",
      "Não    99.792149\n",
      "Sim     0.207851\n",
      "Name: proportion, dtype: float64\n"
     ]
    },
    {
     "data": {
      "image/png": "[encoded data removed]",
      "text/plain": [
       "<Figure size 640x480 with 1 Axes>"
      ]
     },
     "metadata": {},
     "output_type": "display_data"
    }
   ],
   "source": [
    "# Distribuição percentual para variável categórica 'FDF (Falha Desgaste Ferramenta)' (antes do tratamento)\n",
    "print(\"Antes do tratamento:\")\n",
    "print(df['FDF (Falha Desgaste Ferramenta)'].value_counts(normalize=True) * 100)\n",
    "\n",
    "# Eliminação das linhas indesejadas\n",
    "df = df[~df['FDF (Falha Desgaste Ferramenta)'].isin(['-', '1','0','N'])]\n",
    "\n",
    "# Distribuição após remoção\n",
    "print(\"\\nApós remoção de -, 1, 0, N:\")\n",
    "print(df['FDF (Falha Desgaste Ferramenta)'].value_counts(normalize=True) * 100)\n",
    "\n",
    "# Mudança dos valores para 'Sim' e 'Não', tornando a variável tipo categórica\n",
    "df['FDF (Falha Desgaste Ferramenta)'] = df['FDF (Falha Desgaste Ferramenta)'].replace({'False': 'Não', 'True': 'Sim'})\n",
    "\n",
    "# Distribuição final após padronização\n",
    "print(\"\\nApós padronização (Sim/Não):\")\n",
    "print(df['FDF (Falha Desgaste Ferramenta)'].value_counts(normalize=True) * 100)\n",
    "\n",
    "# Gráfico de barras para variável categórica 'FDF (Falha Desgaste Ferramenta)' após tratamento\n",
    "ax = df['FDF (Falha Desgaste Ferramenta)'].value_counts(normalize=True).plot(kind='bar')\n",
    "ax.set_xlabel('FDF (Falha Desgaste Ferramenta)')\n",
    "ax.set_ylabel('Proporção')\n",
    "plt.xticks(rotation=0)\n",
    "plt.show()"
   ]
  },
  {
   "cell_type": "markdown",
   "id": "2cabc683",
   "metadata": {},
   "source": [
    "##### Variável FDC (Falha Dissipacao Calor)"
   ]
  },
  {
   "cell_type": "code",
   "execution_count": 11,
   "id": "5884b6ff",
   "metadata": {},
   "outputs": [
    {
     "name": "stdout",
     "output_type": "stream",
     "text": [
      "Antes do tratamento:\n",
      "FDC (Falha Dissipacao Calor)\n",
      "False    95.468175\n",
      "nao       2.006951\n",
      "0         1.911544\n",
      "True      0.589478\n",
      "1         0.013630\n",
      "y         0.010222\n",
      "Name: proportion, dtype: float64\n",
      "\n",
      "Após remoção de 0, 1, y:\n",
      "FDC (Falha Dissipacao Calor)\n",
      "False    97.352328\n",
      "nao       2.046560\n",
      "True      0.601112\n",
      "Name: proportion, dtype: float64\n",
      "\n",
      "Após padronização (Sim/Não):\n",
      "FDC (Falha Dissipacao Calor)\n",
      "Não    99.398888\n",
      "Sim     0.601112\n",
      "Name: proportion, dtype: float64\n"
     ]
    },
    {
     "data": {
      "image/png": "[encoded data removed]",
      "text/plain": [
       "<Figure size 640x480 with 1 Axes>"
      ]
     },
     "metadata": {},
     "output_type": "display_data"
    }
   ],
   "source": [
    "# Distribuição percentual para variável categórica 'FDC (Falha Dissipacao Calor)' (antes do tratamento)\n",
    "print(\"Antes do tratamento:\")\n",
    "print(df['FDC (Falha Dissipacao Calor)'].value_counts(normalize=True) * 100)\n",
    "\n",
    "# Eliminação das linhas indesejadas\n",
    "df = df[~df['FDC (Falha Dissipacao Calor)'].isin(['0', '1','y'])]\n",
    "\n",
    "# Distribuição após remoção\n",
    "print(\"\\nApós remoção de 0, 1, y:\")\n",
    "print(df['FDC (Falha Dissipacao Calor)'].value_counts(normalize=True) * 100)\n",
    "\n",
    "# Padronizar os valores para 'Sim' e 'Não'\n",
    "df['FDC (Falha Dissipacao Calor)'] = df['FDC (Falha Dissipacao Calor)'].replace({'nao': 'False'})\n",
    "\n",
    "# Mudança dos valores para 'Sim' e 'Não', tornando a variável tipo categórica\n",
    "df['FDC (Falha Dissipacao Calor)'] = df['FDC (Falha Dissipacao Calor)'].replace({'False': 'Não', 'True': 'Sim'})\n",
    "\n",
    "# Distribuição final após padronização\n",
    "print(\"\\nApós padronização (Sim/Não):\")\n",
    "print(df['FDC (Falha Dissipacao Calor)'].value_counts(normalize=True) * 100)\n",
    "\n",
    "# Gráfico de barras para variável categórica 'FDC (Falha Dissipacao Calor)' após tratamento\n",
    "ax = df['FDC (Falha Dissipacao Calor)'].value_counts(normalize=True).plot(kind='bar')\n",
    "ax.set_xlabel('FDC (Falha Dissipacao Calor)')\n",
    "ax.set_ylabel('Proporção')\n",
    "plt.xticks(rotation=0)\n",
    "plt.show()"
   ]
  },
  {
   "cell_type": "markdown",
   "id": "74e405e3",
   "metadata": {},
   "source": [
    "#### Variável FP (Falha Potencia)"
   ]
  },
  {
   "cell_type": "code",
   "execution_count": 12,
   "id": "007bb353",
   "metadata": {},
   "outputs": [
    {
     "name": "stdout",
     "output_type": "stream",
     "text": [
      "Antes do tratamento:\n",
      "FP (Falha Potencia)\n",
      "Não    63.182766\n",
      "não    32.564281\n",
      "N       1.945796\n",
      "0       1.942321\n",
      "Sim     0.236275\n",
      "sim     0.121612\n",
      "1       0.006949\n",
      "Name: proportion, dtype: float64\n",
      "\n",
      "Após remoção de 1, 0, N:\n",
      "FP (Falha Potencia)\n",
      "Não    65.743519\n",
      "não    33.884088\n",
      "Sim     0.245851\n",
      "sim     0.126541\n",
      "Name: proportion, dtype: float64\n",
      "\n",
      "Após padronização (Sim/Não):\n",
      "FP (Falha Potencia)\n",
      "Não    99.627608\n",
      "Sim     0.372392\n",
      "Name: proportion, dtype: float64\n"
     ]
    },
    {
     "data": {
      "image/png": "[encoded data removed]",
      "text/plain": [
       "<Figure size 640x480 with 1 Axes>"
      ]
     },
     "metadata": {},
     "output_type": "display_data"
    }
   ],
   "source": [
    "# Distribuição percentual para variável categórica 'FP (Falha Potencia)' (antes do tratamento)\n",
    "print(\"Antes do tratamento:\")\n",
    "print(df['FP (Falha Potencia)'].value_counts(normalize=True) * 100)\n",
    "\n",
    "# Eliminação das linhas indesejadas\n",
    "df = df[~df['FP (Falha Potencia)'].isin(['1','0','N'])]\n",
    "\n",
    "# Distribuição após remoção\n",
    "print(\"\\nApós remoção de 1, 0, N:\")\n",
    "print(df['FP (Falha Potencia)'].value_counts(normalize=True) * 100)\n",
    "\n",
    "# Padronizar os valores para 'Sim' e 'Não'\n",
    "df['FP (Falha Potencia)'] = df['FP (Falha Potencia)'].replace({'nao': 'Não', 'sim': 'Sim','não': 'Não'})\n",
    "\n",
    "# Distribuição final após padronização\n",
    "print(\"\\nApós padronização (Sim/Não):\")\n",
    "print(df['FP (Falha Potencia)'].value_counts(normalize=True) * 100)\n",
    "      \n",
    "# Gráfico de barras para variável categórica 'FP (Falha Potencia)' após tratamento\n",
    "ax = df['FP (Falha Potencia)'].value_counts(normalize=True).plot(kind='bar')\n",
    "ax.set_xlabel('FP (Falha Potencia)')\n",
    "ax.set_ylabel('Proporção')\n",
    "plt.xticks(rotation=0)\n",
    "plt.show()"
   ]
  },
  {
   "cell_type": "markdown",
   "id": "aeea3d1a",
   "metadata": {},
   "source": [
    "#### Variável FTE (Falha Tensao Excessiva)"
   ]
  },
  {
   "cell_type": "code",
   "execution_count": 13,
   "id": "d8f41f77",
   "metadata": {},
   "outputs": [
    {
     "name": "stdout",
     "output_type": "stream",
     "text": [
      "Antes do tratamento:\n",
      "FTE (Falha Tensao Excessiva)\n",
      "False    99.544452\n",
      "True      0.455548\n",
      "Name: proportion, dtype: float64\n",
      "\n",
      "Após padronização (Sim/Não):\n",
      "FTE (Falha Tensao Excessiva)\n",
      "Não    99.544452\n",
      "Sim     0.455548\n",
      "Name: proportion, dtype: float64\n"
     ]
    },
    {
     "data": {
      "image/png": "[encoded data removed]",
      "text/plain": [
       "<Figure size 640x480 with 1 Axes>"
      ]
     },
     "metadata": {},
     "output_type": "display_data"
    }
   ],
   "source": [
    "# Distribuição percentual para variável categórica 'FTE (Falha Tensao Excessiva)' (antes do tratamento)\n",
    "print(\"Antes do tratamento:\")\n",
    "print(df['FTE (Falha Tensao Excessiva)'].value_counts(normalize=True) * 100)\n",
    "\n",
    "# Conversão para tipo string\n",
    "df['FTE (Falha Tensao Excessiva)'] = df[\"FTE (Falha Tensao Excessiva)\"].astype(\"str\")\n",
    "\n",
    "# Padronização dos valores para 'Sim' e 'Não'\n",
    "df['FTE (Falha Tensao Excessiva)'] = df['FTE (Falha Tensao Excessiva)'].replace({'False': 'Não', 'True': 'Sim'})\n",
    "\n",
    "# Distribuição final após padronização\n",
    "print(\"\\nApós padronização (Sim/Não):\")\n",
    "print(df['FTE (Falha Tensao Excessiva)'].value_counts(normalize=True) * 100)\n",
    "\n",
    "# Gráfico de barras para variável categórica 'FDC (Falha Dissipacao Calor)' após tratamento\n",
    "ax = df['FTE (Falha Tensao Excessiva)'].value_counts(normalize=True).plot(kind='bar')\n",
    "ax.set_xlabel('FTE (Falha Tensao Excessiva)')\n",
    "ax.set_ylabel('Proporção')\n",
    "plt.xticks(rotation=0)\n",
    "plt.show()"
   ]
  },
  {
   "cell_type": "markdown",
   "id": "8a801915",
   "metadata": {},
   "source": [
    "#### Variável FA (Falha Aleatória)"
   ]
  },
  {
   "cell_type": "code",
   "execution_count": 14,
   "id": "491caa1d",
   "metadata": {},
   "outputs": [
    {
     "name": "stdout",
     "output_type": "stream",
     "text": [
      "Antes do tratamento:\n",
      "FA (Falha Aleatoria)\n",
      "Não    64.420261\n",
      "não    33.204382\n",
      "0       1.992118\n",
      "-       0.191619\n",
      "Sim     0.133772\n",
      "sim     0.054232\n",
      "1       0.003615\n",
      "Name: proportion, dtype: float64\n",
      "\n",
      "Após remoção de 1, 0, -:\n",
      "FA (Falha Aleatoria)\n",
      "Não    65.860871\n",
      "não    33.946921\n",
      "Sim     0.136764\n",
      "sim     0.055445\n",
      "Name: proportion, dtype: float64\n",
      "\n",
      "Após padronização (Sim/Não):\n",
      "FA (Falha Aleatoria)\n",
      "Não    99.807792\n",
      "Sim     0.192208\n",
      "Name: proportion, dtype: float64\n"
     ]
    },
    {
     "data": {
      "image/png": "[encoded data removed]",
      "text/plain": [
       "<Figure size 640x480 with 1 Axes>"
      ]
     },
     "metadata": {},
     "output_type": "display_data"
    }
   ],
   "source": [
    "# Distribuição percentual para variável categórica 'FA (Falha Aleatória)' (antes do tratamento)\n",
    "print(\"Antes do tratamento:\")\n",
    "print(df['FA (Falha Aleatoria)'].value_counts(normalize=True) * 100)\n",
    "\n",
    "# Eliminação das linhas indesejadas\n",
    "df = df[~df['FA (Falha Aleatoria)'].isin(['1','0','-'])]\n",
    "\n",
    "# Distribuição após remoção\n",
    "print(\"\\nApós remoção de 1, 0, -:\")\n",
    "print(df['FA (Falha Aleatoria)'].value_counts(normalize=True) * 100)\n",
    "\n",
    "# Padronizar os valores para 'Sim' e 'Não'\n",
    "df['FA (Falha Aleatoria)'] = df['FA (Falha Aleatoria)'].replace({'sim': 'Sim','não': 'Não'})\n",
    "\n",
    "# Distribuição final após padronização\n",
    "print(\"\\nApós padronização (Sim/Não):\")\n",
    "print(df['FA (Falha Aleatoria)'].value_counts(normalize=True) * 100)\n",
    "\n",
    "# Gráfico de barras para variável categórica 'FDC (Falha Dissipacao Calor)' após tratamento\n",
    "ax = df['FA (Falha Aleatoria)'].value_counts(normalize=True).plot(kind='bar')\n",
    "ax.set_xlabel('FA (Falha Aleatoria)')\n",
    "ax.set_ylabel('Proporção')\n",
    "plt.xticks(rotation=0)\n",
    "plt.show()"
   ]
  },
  {
   "cell_type": "markdown",
   "id": "4d0c28d4",
   "metadata": {},
   "source": [
    "#### Verificação parcial do DataFrame"
   ]
  },
  {
   "cell_type": "code",
   "execution_count": 15,
   "id": "df49ccbd",
   "metadata": {},
   "outputs": [
    {
     "name": "stdout",
     "output_type": "stream",
     "text": [
      "<class 'pandas.core.frame.DataFrame'>\n",
      "Index: 27054 entries, 0 to 35259\n",
      "Data columns (total 15 columns):\n",
      " #   Column                           Non-Null Count  Dtype  \n",
      "---  ------                           --------------  -----  \n",
      " 0   id                               27054 non-null  int64  \n",
      " 1   id_produto                       27054 non-null  object \n",
      " 2   tipo                             27054 non-null  object \n",
      " 3   temperatura_ar                   27054 non-null  float64\n",
      " 4   temperatura_processo             27054 non-null  float64\n",
      " 5   umidade_relativa                 27054 non-null  float64\n",
      " 6   velocidade_rotacional            27054 non-null  float64\n",
      " 7   torque                           27054 non-null  float64\n",
      " 8   desgaste_da_ferramenta           27054 non-null  float64\n",
      " 9   falha_maquina                    27054 non-null  object \n",
      " 10  FDF (Falha Desgaste Ferramenta)  27054 non-null  object \n",
      " 11  FDC (Falha Dissipacao Calor)     27054 non-null  object \n",
      " 12  FP (Falha Potencia)              27054 non-null  object \n",
      " 13  FTE (Falha Tensao Excessiva)     27054 non-null  object \n",
      " 14  FA (Falha Aleatoria)             27054 non-null  object \n",
      "dtypes: float64(6), int64(1), object(8)\n",
      "memory usage: 3.3+ MB\n"
     ]
    }
   ],
   "source": [
    "# Verificação parcial do DataFrame\n",
    "df.info()"
   ]
  },
  {
   "cell_type": "markdown",
   "id": "82fecc42",
   "metadata": {},
   "source": [
    "##### As variáveis de falha passam a estar todas em tipo 'object', padronizadas em respostas binárias 'Sim' ou 'Não'. "
   ]
  },
  {
   "cell_type": "markdown",
   "id": "975a7adc",
   "metadata": {},
   "source": [
    "### Análise univariada e tratamento das variáveis de controle"
   ]
  },
  {
   "cell_type": "code",
   "execution_count": 16,
   "id": "0e033fdd",
   "metadata": {},
   "outputs": [],
   "source": [
    "# Gráfico de boxplot para variáveis numéricas contínuas\n",
    "def plot_boxplots(df, column):\n",
    "    plt.figure(figsize=(8, 5))\n",
    "    sns.boxplot(data=df, x=column)\n",
    "    plt.title(f'Boxplot de {column}')\n",
    "    plt.xlabel('')\n",
    "    plt.ylabel(column)\n",
    "    plt.tight_layout()\n",
    "    plt.show()"
   ]
  },
  {
   "cell_type": "markdown",
   "id": "d9fb2272",
   "metadata": {},
   "source": [
    "#### Variável temperatura_ar"
   ]
  },
  {
   "cell_type": "code",
   "execution_count": 17,
   "id": "08edb87a",
   "metadata": {},
   "outputs": [
    {
     "data": {
      "text/plain": [
       "(27054, 15)"
      ]
     },
     "execution_count": 17,
     "metadata": {},
     "output_type": "execute_result"
    }
   ],
   "source": [
    "# Verificação do número de linhas e colunas do DataFrame\n",
    "df.shape "
   ]
  },
  {
   "cell_type": "code",
   "execution_count": 18,
   "id": "e8779469",
   "metadata": {},
   "outputs": [
    {
     "name": "stdout",
     "output_type": "stream",
     "text": [
      "temperatura_ar\n",
      "-36.0     8.678938\n",
      " 295.3    0.014785\n",
      " 295.4    0.011089\n",
      " 295.5    0.048052\n",
      " 295.6    0.266134\n",
      "            ...   \n",
      " 304.0    0.314186\n",
      " 304.1    0.277223\n",
      " 304.2    0.229171\n",
      " 304.3    0.136764\n",
      " 304.4    0.022178\n",
      "Name: proportion, Length: 93, dtype: float64\n"
     ]
    },
    {
     "data": {
      "image/png": "[encoded data removed]",
      "text/plain": [
       "<Figure size 800x500 with 1 Axes>"
      ]
     },
     "metadata": {},
     "output_type": "display_data"
    }
   ],
   "source": [
    "# Valores de contagem e Boxplot para a variável 'temperatura_ar'\n",
    "print(df['temperatura_ar'].value_counts(normalize=True).sort_index() * 100)\n",
    "plot_boxplots(df, 'temperatura_ar')"
   ]
  },
  {
   "cell_type": "markdown",
   "id": "bd80356b",
   "metadata": {},
   "source": [
    "- Cerca de 8,6% dos registros da variável temperatura_ar apresentam o valor \"–36.0\".\n",
    "\n",
    "- Esse comportamento é evidente tanto no value_counts quanto no Boxplot.\n",
    "\n",
    "- O valor \"–36.0\" será desconsiderado, pois a variável está em Kelvin (K), escala que não admite valores negativos."
   ]
  },
  {
   "cell_type": "code",
   "execution_count": 19,
   "id": "dc5cec7b",
   "metadata": {},
   "outputs": [
    {
     "name": "stdout",
     "output_type": "stream",
     "text": [
      "temperatura_ar\n",
      "295.3    0.016190\n",
      "295.4    0.012143\n",
      "295.5    0.052619\n",
      "295.6    0.291427\n",
      "295.7    0.109285\n",
      "           ...   \n",
      "304.0    0.344046\n",
      "304.1    0.303570\n",
      "304.2    0.250951\n",
      "304.3    0.149761\n",
      "304.4    0.024286\n",
      "Name: proportion, Length: 92, dtype: float64\n"
     ]
    },
    {
     "data": {
      "image/png": "[encoded data removed]",
      "text/plain": [
       "<Figure size 800x500 with 1 Axes>"
      ]
     },
     "metadata": {},
     "output_type": "display_data"
    }
   ],
   "source": [
    "# Remoção do valor inválido '-36.0' para a variável 'temperatura_ar'\n",
    "df = df[df['temperatura_ar'] != -36.0] \n",
    "\n",
    "# Verificação dos valores após remoção\n",
    "print(df['temperatura_ar'].value_counts(normalize=True).sort_index() * 100)\n",
    "plot_boxplots(df, 'temperatura_ar')"
   ]
  },
  {
   "cell_type": "markdown",
   "id": "68afe846",
   "metadata": {},
   "source": [
    "#### Variável temperatura_processo"
   ]
  },
  {
   "cell_type": "code",
   "execution_count": 20,
   "id": "c3928215",
   "metadata": {},
   "outputs": [
    {
     "data": {
      "text/plain": [
       "(24706, 15)"
      ]
     },
     "execution_count": 20,
     "metadata": {},
     "output_type": "execute_result"
    }
   ],
   "source": [
    "# Verificação do número de linhas e colunas do DataFrame\n",
    "df.shape"
   ]
  },
  {
   "cell_type": "code",
   "execution_count": 21,
   "id": "20f6c41e",
   "metadata": {},
   "outputs": [
    {
     "name": "stdout",
     "output_type": "stream",
     "text": [
      "temperatura_processo\n",
      "-38.0     8.443293\n",
      " 305.7    0.008095\n",
      " 305.8    0.020238\n",
      " 305.9    0.012143\n",
      " 306.0    0.064762\n",
      "            ...   \n",
      " 313.4    0.178094\n",
      " 313.5    0.149761\n",
      " 313.6    0.085000\n",
      " 313.7    0.012143\n",
      " 313.8    0.004048\n",
      "Name: proportion, Length: 83, dtype: float64\n"
     ]
    },
    {
     "data": {
      "image/png": "[encoded data removed]",
      "text/plain": [
       "<Figure size 800x500 with 1 Axes>"
      ]
     },
     "metadata": {},
     "output_type": "display_data"
    }
   ],
   "source": [
    "# Valores de contagem e Boxplot para a variável 'temperatura_ar'\n",
    "print(df['temperatura_processo'].value_counts(normalize=True).sort_index() * 100)\n",
    "plot_boxplots(df, 'temperatura_processo')"
   ]
  },
  {
   "cell_type": "markdown",
   "id": "70854def",
   "metadata": {},
   "source": [
    "- Cerca de 8,4% dos registros da variável temperatura_processo apresentam o valor \"–38.0\".\n",
    "\n",
    "- Esse comportamento é evidente tanto no value_counts quanto no Boxplot.\n",
    "\n",
    "- O valor \"–38.0\" será desconsiderado, pois a variável está em Kelvin (K), escala que não admite valores negativos."
   ]
  },
  {
   "cell_type": "code",
   "execution_count": 22,
   "id": "5c6f0da8",
   "metadata": {},
   "outputs": [
    {
     "name": "stdout",
     "output_type": "stream",
     "text": [
      "temperatura_processo\n",
      "305.7    0.008842\n",
      "305.8    0.022104\n",
      "305.9    0.013263\n",
      "306.0    0.070734\n",
      "306.1    0.137047\n",
      "           ...   \n",
      "313.4    0.194518\n",
      "313.5    0.163572\n",
      "313.6    0.092838\n",
      "313.7    0.013263\n",
      "313.8    0.004421\n",
      "Name: proportion, Length: 82, dtype: float64\n"
     ]
    },
    {
     "data": {
      "image/png": "[encoded data removed]",
      "text/plain": [
       "<Figure size 800x500 with 1 Axes>"
      ]
     },
     "metadata": {},
     "output_type": "display_data"
    }
   ],
   "source": [
    "# Remoção do valor inválido '-38.0' para a variável 'temperatura_processo'\n",
    "df = df[df['temperatura_processo'] != -38.0]\n",
    "\n",
    "# Verificação dos valores após remoção\n",
    "print(df['temperatura_processo'].value_counts(normalize=True).sort_index() * 100)\n",
    "plot_boxplots(df, 'temperatura_processo')"
   ]
  },
  {
   "cell_type": "markdown",
   "id": "9955262a",
   "metadata": {},
   "source": [
    "#### Variável umidade_relativa"
   ]
  },
  {
   "cell_type": "code",
   "execution_count": 23,
   "id": "87c9ad48",
   "metadata": {},
   "outputs": [
    {
     "data": {
      "text/plain": [
       "(22620, 15)"
      ]
     },
     "execution_count": 23,
     "metadata": {},
     "output_type": "execute_result"
    }
   ],
   "source": [
    "# Verificação do número de linhas e colunas do DataFrame\n",
    "df.shape"
   ]
  },
  {
   "cell_type": "code",
   "execution_count": 24,
   "id": "5cbb14de",
   "metadata": {},
   "outputs": [
    {
     "name": "stdout",
     "output_type": "stream",
     "text": [
      "umidade_relativa\n",
      "90.0    100.0\n",
      "Name: proportion, dtype: float64\n"
     ]
    }
   ],
   "source": [
    "# Valores de contagem para a variável 'umidade_relativa'\n",
    "print(df['umidade_relativa'].value_counts(normalize=True).sort_index()* 100)"
   ]
  },
  {
   "cell_type": "markdown",
   "id": "dbe3e718",
   "metadata": {},
   "source": [
    "#### Variável velocidade_rotacional"
   ]
  },
  {
   "cell_type": "code",
   "execution_count": 25,
   "id": "fbb1e02a",
   "metadata": {},
   "outputs": [
    {
     "name": "stdout",
     "output_type": "stream",
     "text": [
      "velocidade_rotacional\n",
      "-161.0     8.479222\n",
      " 1183.0    0.008842\n",
      " 1200.0    0.004421\n",
      " 1202.0    0.017683\n",
      " 1207.0    0.004421\n",
      "             ...   \n",
      " 2737.0    0.004421\n",
      " 2825.0    0.004421\n",
      " 2833.0    0.004421\n",
      " 2874.0    0.004421\n",
      " 2886.0    0.004421\n",
      "Name: proportion, Length: 864, dtype: float64\n"
     ]
    },
    {
     "data": {
      "image/png": "[encoded data removed]",
      "text/plain": [
       "<Figure size 800x500 with 1 Axes>"
      ]
     },
     "metadata": {},
     "output_type": "display_data"
    }
   ],
   "source": [
    "# Valores de contagem e Boxplot para a variável 'velocidade_rotacional'\n",
    "print(df['velocidade_rotacional'].value_counts(normalize=True).sort_index() * 100)\n",
    "plot_boxplots(df, 'velocidade_rotacional')"
   ]
  },
  {
   "cell_type": "markdown",
   "id": "394de87a",
   "metadata": {},
   "source": [
    "- Cerca de 8,5% dos registros da variável velocidade_rotacional apresentam o valor \"–161.0\".\n",
    "\n",
    "- Esse comportamento é evidente tanto no value_counts quanto no Boxplot.\n",
    "\n",
    "- O valor \"–161.0\" será desconsiderado, pois a variável está em RPM (rotações por minuto), escala que admite apenas valores positivos e não possui convenção definida para sentido de rotação."
   ]
  },
  {
   "cell_type": "code",
   "execution_count": 26,
   "id": "40434559",
   "metadata": {},
   "outputs": [
    {
     "name": "stdout",
     "output_type": "stream",
     "text": [
      "velocidade_rotacional\n",
      "1183.0    0.009661\n",
      "1200.0    0.004830\n",
      "1202.0    0.019322\n",
      "1207.0    0.004830\n",
      "1208.0    0.004830\n",
      "            ...   \n",
      "2737.0    0.004830\n",
      "2825.0    0.004830\n",
      "2833.0    0.004830\n",
      "2874.0    0.004830\n",
      "2886.0    0.004830\n",
      "Name: proportion, Length: 863, dtype: float64\n"
     ]
    },
    {
     "data": {
      "image/png": "[encoded data removed]",
      "text/plain": [
       "<Figure size 800x500 with 1 Axes>"
      ]
     },
     "metadata": {},
     "output_type": "display_data"
    }
   ],
   "source": [
    "# Remoção do valor inválido '-161.0' para a variável 'velocidade_rotacional'\n",
    "df = df[df['velocidade_rotacional'] != -161.0]\n",
    "\n",
    "# Verificação dos valores após remoção\n",
    "print(df['velocidade_rotacional'].value_counts(normalize=True).sort_index() * 100)\n",
    "plot_boxplots(df, 'velocidade_rotacional')"
   ]
  },
  {
   "cell_type": "markdown",
   "id": "5965de37",
   "metadata": {},
   "source": [
    "Devido à ausência de informações sobre os intervalos permitidos para as variáveis de controle do problema e considerando que esta análise trata da predição de falhas decorrentes do mau funcionamento das máquinas, não é adequado concluir um tratamento definitivo para os valores extremos indicados no Boxplot da variável 'velocidade_rotacional'."
   ]
  },
  {
   "cell_type": "markdown",
   "id": "7ca53a0a",
   "metadata": {},
   "source": [
    "#### Variável torque"
   ]
  },
  {
   "cell_type": "code",
   "execution_count": 27,
   "id": "77a019ae",
   "metadata": {},
   "outputs": [
    {
     "data": {
      "text/plain": [
       "(20702, 15)"
      ]
     },
     "execution_count": 27,
     "metadata": {},
     "output_type": "execute_result"
    }
   ],
   "source": [
    "# Verificação do número de linhas e colunas do DataFrame\n",
    "df.shape"
   ]
  },
  {
   "cell_type": "code",
   "execution_count": 28,
   "id": "60530fd5",
   "metadata": {},
   "outputs": [
    {
     "name": "stdout",
     "output_type": "stream",
     "text": [
      "torque\n",
      "3.8     0.004830\n",
      "4.2     0.004830\n",
      "5.6     0.004830\n",
      "5.8     0.004830\n",
      "8.8     0.004830\n",
      "          ...   \n",
      "72.6    0.004830\n",
      "73.6    0.004830\n",
      "75.4    0.009661\n",
      "76.2    0.004830\n",
      "76.6    0.004830\n",
      "Name: proportion, Length: 559, dtype: float64\n"
     ]
    },
    {
     "data": {
      "image/png": "[encoded data removed]",
      "text/plain": [
       "<Figure size 800x500 with 1 Axes>"
      ]
     },
     "metadata": {},
     "output_type": "display_data"
    }
   ],
   "source": [
    "# Valores de contagem e Boxplot para a variável 'torque'\n",
    "print(df['torque'].value_counts(normalize=True).sort_index() * 100)\n",
    "plot_boxplots(df, 'torque')"
   ]
  },
  {
   "cell_type": "markdown",
   "id": "7311f658",
   "metadata": {},
   "source": [
    " Devido à ausência de informações sobre os intervalos permitidos para as variáveis de controle e pelo fato de a análise tratar da predição de falhas decorrentes do mau funcionamento das máquinas, não é adequado definir um tratamento para os valores extremos indicados no Boxplot da variável 'torque'."
   ]
  },
  {
   "cell_type": "markdown",
   "id": "fd9ef44c",
   "metadata": {},
   "source": [
    "#### Variável desgaste_da_ferramenta"
   ]
  },
  {
   "cell_type": "code",
   "execution_count": 29,
   "id": "d9a4d60f",
   "metadata": {},
   "outputs": [
    {
     "data": {
      "text/plain": [
       "(20702, 15)"
      ]
     },
     "execution_count": 29,
     "metadata": {},
     "output_type": "execute_result"
    }
   ],
   "source": [
    "# Verificação do número de linhas e colunas do DataFrame\n",
    "df.shape"
   ]
  },
  {
   "cell_type": "code",
   "execution_count": 30,
   "id": "b0f278a5",
   "metadata": {},
   "outputs": [
    {
     "name": "stdout",
     "output_type": "stream",
     "text": [
      "desgaste_da_ferramenta\n",
      "-202.0    9.549802\n",
      " 0.0      2.284803\n",
      " 2.0      1.106173\n",
      " 3.0      0.183557\n",
      " 4.0      0.231862\n",
      "            ...   \n",
      " 242.0    0.024152\n",
      " 244.0    0.009661\n",
      " 246.0    0.009661\n",
      " 251.0    0.004830\n",
      " 253.0    0.004830\n",
      "Name: proportion, Length: 247, dtype: float64\n"
     ]
    },
    {
     "data": {
      "image/png": "[encoded data removed]",
      "text/plain": [
       "<Figure size 800x500 with 1 Axes>"
      ]
     },
     "metadata": {},
     "output_type": "display_data"
    }
   ],
   "source": [
    "# Valores de contagem e Boxplot para a variável 'desgaste_da_ferramenta'\n",
    "print(df['desgaste_da_ferramenta'].value_counts(normalize=True).sort_index() * 100)\n",
    "plot_boxplots(df, 'desgaste_da_ferramenta')"
   ]
  },
  {
   "cell_type": "markdown",
   "id": "80f66c47",
   "metadata": {},
   "source": [
    "Devido à ausência de informações sobre os intervalos permitidos para a variável 'desgaste_da_ferramenta' e considerando que esta análise visa à predição de falhas decorrentes do mau funcionamento das máquinas, não é adequado propor um tratamento definitivo para os valores extremos identificados no Boxplot, como o valor –202.0, que aparece com maior frequência relativa."
   ]
  },
  {
   "cell_type": "code",
   "execution_count": 31,
   "id": "7eb20f86",
   "metadata": {},
   "outputs": [
    {
     "name": "stdout",
     "output_type": "stream",
     "text": [
      "desgaste_da_ferramenta\n",
      "0.0      2.526035\n",
      "2.0      1.222964\n",
      "3.0      0.202937\n",
      "4.0      0.256342\n",
      "5.0      0.918558\n",
      "           ...   \n",
      "242.0    0.026702\n",
      "244.0    0.010681\n",
      "246.0    0.010681\n",
      "251.0    0.005340\n",
      "253.0    0.005340\n",
      "Name: proportion, Length: 246, dtype: float64\n"
     ]
    },
    {
     "data": {
      "image/png": "[encoded data removed]",
      "text/plain": [
       "<Figure size 800x500 with 1 Axes>"
      ]
     },
     "metadata": {},
     "output_type": "display_data"
    }
   ],
   "source": [
    "# Remoção do valor inválido '-202.0' para a variável 'desgaste_da_ferramenta'\n",
    "df = df[df['desgaste_da_ferramenta'] != -202.0]\n",
    "\n",
    "# Verificação dos valores após remoção\n",
    "print(df['desgaste_da_ferramenta'].value_counts(normalize=True).sort_index() * 100)\n",
    "plot_boxplots(df, 'desgaste_da_ferramenta')"
   ]
  },
  {
   "cell_type": "markdown",
   "id": "7561ad86",
   "metadata": {},
   "source": [
    "#### Verificação final do DataFrame"
   ]
  },
  {
   "cell_type": "code",
   "execution_count": 32,
   "id": "5440e8fe",
   "metadata": {},
   "outputs": [
    {
     "data": {
      "text/plain": [
       "(18725, 15)"
      ]
     },
     "execution_count": 32,
     "metadata": {},
     "output_type": "execute_result"
    }
   ],
   "source": [
    "# Verificação do número de linhas e colunas do DataFrame\n",
    "df.shape"
   ]
  },
  {
   "cell_type": "code",
   "execution_count": 33,
   "id": "069330a1",
   "metadata": {},
   "outputs": [
    {
     "name": "stdout",
     "output_type": "stream",
     "text": [
      "<class 'pandas.core.frame.DataFrame'>\n",
      "Index: 18725 entries, 0 to 35259\n",
      "Data columns (total 15 columns):\n",
      " #   Column                           Non-Null Count  Dtype  \n",
      "---  ------                           --------------  -----  \n",
      " 0   id                               18725 non-null  int64  \n",
      " 1   id_produto                       18725 non-null  object \n",
      " 2   tipo                             18725 non-null  object \n",
      " 3   temperatura_ar                   18725 non-null  float64\n",
      " 4   temperatura_processo             18725 non-null  float64\n",
      " 5   umidade_relativa                 18725 non-null  float64\n",
      " 6   velocidade_rotacional            18725 non-null  float64\n",
      " 7   torque                           18725 non-null  float64\n",
      " 8   desgaste_da_ferramenta           18725 non-null  float64\n",
      " 9   falha_maquina                    18725 non-null  object \n",
      " 10  FDF (Falha Desgaste Ferramenta)  18725 non-null  object \n",
      " 11  FDC (Falha Dissipacao Calor)     18725 non-null  object \n",
      " 12  FP (Falha Potencia)              18725 non-null  object \n",
      " 13  FTE (Falha Tensao Excessiva)     18725 non-null  object \n",
      " 14  FA (Falha Aleatoria)             18725 non-null  object \n",
      "dtypes: float64(6), int64(1), object(8)\n",
      "memory usage: 2.3+ MB\n"
     ]
    }
   ],
   "source": [
    "# Verificação final do DataFrame\n",
    "df.info()"
   ]
  },
  {
   "cell_type": "markdown",
   "id": "e65cb179",
   "metadata": {},
   "source": [
    "- Redução do volume de dados: após as alterações no DataFrame, os dados passaram de 15 colunas e 35.260 linhas para 15 colunas e 18.725 linhas.\n",
    "\n",
    "- Perda proporcional: houve uma redução de aproximadamente 47% dos registros disponíveis para análise.\n",
    "\n",
    "Possíveis causas:\n",
    "\n",
    " - problemas na coleta dos dados;\n",
    "\n",
    " - ausência de informações sobre as especificidades das máquinas analisadas;\n",
    "\n",
    " - falta de detalhamento nas medições disponibilizadas."
   ]
  },
  {
   "cell_type": "code",
   "execution_count": 34,
   "id": "a1ec3b8f",
   "metadata": {},
   "outputs": [],
   "source": [
    "# Salvamento do DataFrame tratado em um novo arquivo CSV\n",
    "df.to_csv('bootcamp_train_tratado.csv', index=False)"
   ]
  },
  {
   "cell_type": "markdown",
   "id": "07573188",
   "metadata": {},
   "source": [
    "## Pré-processamento e treino dos modelos"
   ]
  },
  {
   "cell_type": "markdown",
   "id": "277961a3",
   "metadata": {},
   "source": [
    "O método binário é apresentado primeiro, antes das abordagens multiclasse e multirrótulo, porque utiliza o DataFrame em sua forma original, sem colunas auxiliares criadas nos outros modelos (como num_falhas). Essa ordem evita contaminação dos dados (data leakage) e garante que os resultados reflitam de fato a capacidade preditiva do modelo. \n",
    "\n",
    "A sequência escolhida segue um raciocínio hierárquico: primeiro identifica-se se há ou não falha (binário), depois investiga-se a quantidade de falhas (multiclasse) e, por fim, o tipo de falha (multirrótulo)."
   ]
  },
  {
   "cell_type": "markdown",
   "id": "b8036dd2",
   "metadata": {},
   "source": [
    "### Análise e tratamento inicial"
   ]
  },
  {
   "cell_type": "code",
   "execution_count": 35,
   "id": "4a2ce454",
   "metadata": {},
   "outputs": [
    {
     "name": "stdout",
     "output_type": "stream",
     "text": [
      "<class 'pandas.core.frame.DataFrame'>\n",
      "RangeIndex: 18725 entries, 0 to 18724\n",
      "Data columns (total 15 columns):\n",
      " #   Column                           Non-Null Count  Dtype  \n",
      "---  ------                           --------------  -----  \n",
      " 0   id                               18725 non-null  int64  \n",
      " 1   id_produto                       18725 non-null  object \n",
      " 2   tipo                             18725 non-null  object \n",
      " 3   temperatura_ar                   18725 non-null  float64\n",
      " 4   temperatura_processo             18725 non-null  float64\n",
      " 5   umidade_relativa                 18725 non-null  float64\n",
      " 6   velocidade_rotacional            18725 non-null  float64\n",
      " 7   torque                           18725 non-null  float64\n",
      " 8   desgaste_da_ferramenta           18725 non-null  float64\n",
      " 9   falha_maquina                    18725 non-null  object \n",
      " 10  FDF (Falha Desgaste Ferramenta)  18725 non-null  object \n",
      " 11  FDC (Falha Dissipacao Calor)     18725 non-null  object \n",
      " 12  FP (Falha Potencia)              18725 non-null  object \n",
      " 13  FTE (Falha Tensao Excessiva)     18725 non-null  object \n",
      " 14  FA (Falha Aleatoria)             18725 non-null  object \n",
      "dtypes: float64(6), int64(1), object(8)\n",
      "memory usage: 2.1+ MB\n"
     ]
    }
   ],
   "source": [
    "# Carregamento do DataFrame tratado para verificação\n",
    "df = pd.read_csv('bootcamp_train_tratado.csv')\n",
    "df.info()"
   ]
  },
  {
   "cell_type": "code",
   "execution_count": 36,
   "id": "d9b8e926",
   "metadata": {},
   "outputs": [],
   "source": [
    "# Colunas de falhas \n",
    "falha_cols = [\n",
    "    \"FDF (Falha Desgaste Ferramenta)\",\n",
    "    \"FDC (Falha Dissipacao Calor)\",\n",
    "    \"FP (Falha Potencia)\",\n",
    "    \"FTE (Falha Tensao Excessiva)\",\n",
    "    \"FA (Falha Aleatoria)\",\n",
    "]"
   ]
  },
  {
   "cell_type": "code",
   "execution_count": 37,
   "id": "9ac0c71a",
   "metadata": {},
   "outputs": [],
   "source": [
    "# Converter colunas de falha de 'Sim'/'Não' para 1/0\n",
    "for col in falha_cols + ([\"falha_maquina\"] if \"falha_maquina\" in df.columns else []):\n",
    "    if df[col].dtype == \"object\":\n",
    "        df[col] = df[col].map({\"Sim\": 1, \"Não\": 0}).astype(int)"
   ]
  },
  {
   "cell_type": "markdown",
   "id": "07089a06",
   "metadata": {},
   "source": [
    "### Método Binário - SVM"
   ]
  },
  {
   "cell_type": "markdown",
   "id": "345b8d72",
   "metadata": {},
   "source": [
    "- A formulação binária simplifica o problema em duas classes: “Sem falha” (0) e “Falha” (1).\n",
    "\n",
    "- A intenção é verificar se essa simplificação contribui para uma análise mais estável, agrupando todas as falhas em uma única categoria.\n",
    "\n",
    "- Será analisado se este modelo pode servir como um primeiro filtro de detecção de falhas antes de investigações mais detalhadas."
   ]
  },
  {
   "cell_type": "code",
   "execution_count": 38,
   "id": "476f3c3a",
   "metadata": {},
   "outputs": [],
   "source": [
    "# Alvo binário: 1 = há alguma falha; 0 = sem falha\n",
    "y_bin = (df[falha_cols].sum(axis=1) > 0).astype(int)\n",
    "\n",
    "# Features (remover ids, variável possivelmente constante e colunas-alvo)\n",
    "drop_cols_bin = [\"id\", \"id_produto\", \"umidade_relativa\"] + falha_cols\n",
    "if \"falha_maquina\" in df.columns:\n",
    "    drop_cols_bin.append(\"falha_maquina\")\n",
    "\n",
    "# One-Hot Encoding das variáveis categóricas\n",
    "X_bin = pd.get_dummies(df.drop(columns=[c for c in drop_cols_bin if c in df.columns]), drop_first=True)\n",
    "\n",
    "# Split estratificado\n",
    "X_train_b, X_test_b, y_train_b, y_test_b = train_test_split(X_bin, y_bin, test_size=0.2, random_state=42, stratify=y_bin)\n",
    "\n",
    "# Padronização e SVM com pesos balanceados\n",
    "svm_pipe = Pipeline(steps=[\n",
    "    (\"scaler\", StandardScaler(with_mean=False)),  # with_mean=False para suportar dummies\n",
    "    (\"svc\", SVC(kernel=\"rbf\", C=1.0, gamma=\"scale\", class_weight=\"balanced\", random_state=42))\n",
    "])\n",
    "svm_pipe.fit(X_train_b, y_train_b) # Treinamento do modelo\n",
    "\n",
    "y_pred_svm = svm_pipe.predict(X_test_b) # Previsões no conjunto de teste"
   ]
  },
  {
   "cell_type": "markdown",
   "id": "d126d98c",
   "metadata": {},
   "source": [
    "#### Diagnóstico de desempenho"
   ]
  },
  {
   "cell_type": "code",
   "execution_count": 39,
   "id": "9e1c6027",
   "metadata": {},
   "outputs": [
    {
     "name": "stdout",
     "output_type": "stream",
     "text": [
      "Classification Report — Binário (SVM)\n",
      "              precision    recall  f1-score   support\n",
      "\n",
      "   Sem falha     0.9932    0.7535    0.8569      3676\n",
      "       Falha     0.0523    0.7246    0.0976        69\n",
      "\n",
      "    accuracy                         0.7530      3745\n",
      "   macro avg     0.5227    0.7391    0.4772      3745\n",
      "weighted avg     0.9759    0.7530    0.8429      3745\n",
      "\n"
     ]
    },
    {
     "data": {
      "image/png": "[encoded data removed]",
      "text/plain": [
       "<Figure size 600x500 with 2 Axes>"
      ]
     },
     "metadata": {},
     "output_type": "display_data"
    },
    {
     "name": "stdout",
     "output_type": "stream",
     "text": [
      "Métricas adicionais — Binário (SVM)\n",
      "Accuracy:             0.7530\n",
      "Balanced Accuracy:    0.7391\n",
      "Recall (classe Falha):0.7246\n"
     ]
    }
   ],
   "source": [
    "classes_nomes_bin = [\"Sem falha\", \"Falha\"]\n",
    "\n",
    "# Classification Report\n",
    "print(\"Classification Report — Binário (SVM)\")\n",
    "print(classification_report(y_test_b, y_pred_svm, target_names=classes_nomes_bin, digits=4))\n",
    "\n",
    "# Matriz de Confusão\n",
    "cm = confusion_matrix(y_test_b, y_pred_svm)\n",
    "plt.figure(figsize=(6,5))\n",
    "sns.heatmap(cm, annot=True, fmt=\"d\", cmap=\"Blues\",\n",
    "            xticklabels=classes_nomes_bin, yticklabels=classes_nomes_bin)\n",
    "plt.xlabel(\"Predito\")\n",
    "plt.ylabel(\"Verdadeiro\")\n",
    "plt.title(\"Matriz de Confusão — Binário (SVM)\")\n",
    "plt.show()\n",
    "\n",
    "# Métricas adicionais\n",
    "acc = accuracy_score(y_test_b, y_pred_svm)\n",
    "bal_acc = balanced_accuracy_score(y_test_b, y_pred_svm)\n",
    "recall_falha = recall_score(y_test_b, y_pred_svm, pos_label=1)\n",
    "\n",
    "print(\"Métricas adicionais — Binário (SVM)\")\n",
    "print(f\"Accuracy:             {acc:.4f}\")\n",
    "print(f\"Balanced Accuracy:    {bal_acc:.4f}\")\n",
    "print(f\"Recall (classe Falha):{recall_falha:.4f}\")"
   ]
  },
  {
   "cell_type": "markdown",
   "id": "1f81c4e8",
   "metadata": {},
   "source": [
    "##### Resumo dos resultados:\n",
    "\n",
    "- Sem falha → precision 0.99, recall 0.75, F1 ≈ 0.86.\n",
    "\n",
    "- Falha → precision 0.05, recall 0.72, F1 ≈ 0.10.\n",
    "\n",
    "- Accuracy geral: 0.75\n",
    "\n",
    "- Balanced Accuracy: 0.74\n",
    "\n",
    "- Recall (falha): 0.72\n",
    "\n",
    "Qualidades:\n",
    "\n",
    "- Consegue detectar a maioria das falhas (recall alto da classe Falha).\n",
    "\n",
    "- Balanced Accuracy mostra que o modelo equilibra relativamente bem as duas classes.\n",
    "\n",
    "- Útil para não deixar passar falhas reais (boa para manutenção preventiva).\n",
    "\n",
    "Problemas:\n",
    "\n",
    "- Precision da classe Falha é baixíssima (0.05), ou seja, a maior parte dos casos classificados como falha são falsos positivos.\n",
    "\n",
    "- F1 da classe Falha também é muito baixo, mostrando desequilíbrio entre precision e recall.\n",
    "\n",
    "- Accuracy de 75% parece razoável, mas é puxada para baixo pelo grande número de falsos alarmes."
   ]
  },
  {
   "cell_type": "markdown",
   "id": "c6f15ad7",
   "metadata": {},
   "source": [
    "#### DataFrame teste"
   ]
  },
  {
   "cell_type": "markdown",
   "id": "86569dfb",
   "metadata": {},
   "source": [
    "- Após o treinamento e avaliação dos modelos com o conjunto de dados rotulado, aplicamos agora o método no novo DataFrame de teste. Este conjunto não contém rótulos nem colunas de falha, de modo que a análise se limita à geração de previsões a partir das variáveis disponíveis."
   ]
  },
  {
   "cell_type": "code",
   "execution_count": 40,
   "id": "21820a39",
   "metadata": {},
   "outputs": [
    {
     "data": {
      "text/html": [
       "<div>\n",
       "<style scoped>\n",
       "    .dataframe tbody tr th:only-of-type {\n",
       "        vertical-align: middle;\n",
       "    }\n",
       "\n",
       "    .dataframe tbody tr th {\n",
       "        vertical-align: top;\n",
       "    }\n",
       "\n",
       "    .dataframe thead th {\n",
       "        text-align: right;\n",
       "    }\n",
       "</style>\n",
       "<table border=\"1\" class=\"dataframe\">\n",
       "  <thead>\n",
       "    <tr style=\"text-align: right;\">\n",
       "      <th></th>\n",
       "      <th>id</th>\n",
       "      <th>id_produto</th>\n",
       "      <th>tipo</th>\n",
       "      <th>temperatura_ar</th>\n",
       "      <th>temperatura_processo</th>\n",
       "      <th>umidade_relativa</th>\n",
       "      <th>velocidade_rotacional</th>\n",
       "      <th>torque</th>\n",
       "      <th>desgaste_da_ferramenta</th>\n",
       "    </tr>\n",
       "  </thead>\n",
       "  <tbody>\n",
       "    <tr>\n",
       "      <th>0</th>\n",
       "      <td>35260</td>\n",
       "      <td>L53432</td>\n",
       "      <td>L</td>\n",
       "      <td>300.8</td>\n",
       "      <td>310.3</td>\n",
       "      <td>90.0</td>\n",
       "      <td>1538</td>\n",
       "      <td>36.1</td>\n",
       "      <td>198</td>\n",
       "    </tr>\n",
       "    <tr>\n",
       "      <th>1</th>\n",
       "      <td>35261</td>\n",
       "      <td>M19544</td>\n",
       "      <td>M</td>\n",
       "      <td>303.6</td>\n",
       "      <td>311.8</td>\n",
       "      <td>90.0</td>\n",
       "      <td>1421</td>\n",
       "      <td>44.8</td>\n",
       "      <td>101</td>\n",
       "    </tr>\n",
       "    <tr>\n",
       "      <th>2</th>\n",
       "      <td>35262</td>\n",
       "      <td>M16591</td>\n",
       "      <td>M</td>\n",
       "      <td>298.3</td>\n",
       "      <td>307.9</td>\n",
       "      <td>90.0</td>\n",
       "      <td>1485</td>\n",
       "      <td>42.0</td>\n",
       "      <td>117</td>\n",
       "    </tr>\n",
       "    <tr>\n",
       "      <th>3</th>\n",
       "      <td>35263</td>\n",
       "      <td>L51922</td>\n",
       "      <td>L</td>\n",
       "      <td>303.3</td>\n",
       "      <td>311.3</td>\n",
       "      <td>90.0</td>\n",
       "      <td>1592</td>\n",
       "      <td>33.7</td>\n",
       "      <td>14</td>\n",
       "    </tr>\n",
       "    <tr>\n",
       "      <th>4</th>\n",
       "      <td>35264</td>\n",
       "      <td>L51701</td>\n",
       "      <td>L</td>\n",
       "      <td>302.4</td>\n",
       "      <td>310.4</td>\n",
       "      <td>90.0</td>\n",
       "      <td>1865</td>\n",
       "      <td>23.9</td>\n",
       "      <td>129</td>\n",
       "    </tr>\n",
       "  </tbody>\n",
       "</table>\n",
       "</div>"
      ],
      "text/plain": [
       "      id id_produto tipo  temperatura_ar  temperatura_processo  \\\n",
       "0  35260     L53432    L           300.8                 310.3   \n",
       "1  35261     M19544    M           303.6                 311.8   \n",
       "2  35262     M16591    M           298.3                 307.9   \n",
       "3  35263     L51922    L           303.3                 311.3   \n",
       "4  35264     L51701    L           302.4                 310.4   \n",
       "\n",
       "   umidade_relativa  velocidade_rotacional  torque  desgaste_da_ferramenta  \n",
       "0              90.0                   1538    36.1                     198  \n",
       "1              90.0                   1421    44.8                     101  \n",
       "2              90.0                   1485    42.0                     117  \n",
       "3              90.0                   1592    33.7                      14  \n",
       "4              90.0                   1865    23.9                     129  "
      ]
     },
     "execution_count": 40,
     "metadata": {},
     "output_type": "execute_result"
    }
   ],
   "source": [
    "# Conjunto de teste\n",
    "df_test = pd.read_csv('bootcamp_test.csv')\n",
    "df_test.head()"
   ]
  },
  {
   "cell_type": "code",
   "execution_count": 41,
   "id": "14ae2c17",
   "metadata": {},
   "outputs": [
    {
     "name": "stdout",
     "output_type": "stream",
     "text": [
      "      id  pred_binaria pred_label\n",
      "0  35260             0  Sem falha\n",
      "1  35261             1      Falha\n",
      "2  35262             0  Sem falha\n",
      "3  35263             0  Sem falha\n",
      "4  35264             0  Sem falha\n"
     ]
    }
   ],
   "source": [
    "# Cópia do df de teste\n",
    "df_test_bin = df_test.copy()\n",
    "\n",
    "# Seleção de features igual ao treino\n",
    "drop_cols_bin = [\"id\", \"id_produto\", \"umidade_relativa\"]\n",
    "X_test_bin_new = pd.get_dummies(\n",
    "    df_test_bin.drop(columns=[c for c in drop_cols_bin if c in df_test_bin.columns]),\n",
    "    drop_first=True\n",
    ")\n",
    "\n",
    "# Alinhando colunas ao treino\n",
    "X_test_bin_new = X_test_bin_new.reindex(columns=X_train_b.columns, fill_value=0)\n",
    "\n",
    "# Previsão\n",
    "y_pred_bin = svm_pipe.predict(X_test_bin_new)\n",
    "\n",
    "# Resultado\n",
    "pred_bin_df = pd.DataFrame({\n",
    "    \"id\": df_test_bin[\"id\"] if \"id\" in df_test_bin.columns else range(len(df_test_bin)),\n",
    "    \"pred_binaria\": y_pred_bin,\n",
    "    \"pred_label\": pd.Series(y_pred_bin).map({0: \"Sem falha\", 1: \"Falha\"})\n",
    "})\n",
    "print(pred_bin_df.head()) # Visualização das primeiras linhas\n",
    "pred_bin_df.to_csv('predicoes_modelo_binario.csv', index=False)"
   ]
  },
  {
   "cell_type": "code",
   "execution_count": 42,
   "id": "b25c780a",
   "metadata": {},
   "outputs": [
    {
     "name": "stdout",
     "output_type": "stream",
     "text": [
      "Distribuição de previsões — Binário (SVM)\n",
      "pred_label\n",
      "Sem falha    0.738\n",
      "Falha        0.262\n",
      "Name: proportion, dtype: float64\n"
     ]
    }
   ],
   "source": [
    "# Distribuição das previsões\n",
    "print(\"Distribuição de previsões — Binário (SVM)\")\n",
    "print(pred_bin_df[\"pred_label\"].value_counts(normalize=True).round(3))"
   ]
  },
  {
   "cell_type": "markdown",
   "id": "5647a15d",
   "metadata": {},
   "source": [
    "### Método Multiclasse -  Decision Tree\n",
    "\n"
   ]
  },
  {
   "cell_type": "markdown",
   "id": "868821ba",
   "metadata": {},
   "source": [
    "- Este método organiza as amostras em classes de acordo com a quantidade de falhas simultâneas: 0 (sem falha), 1 (uma falha) ou 2+ (mais de uma falha).\n",
    "\n",
    "- A abordagem busca avaliar não apenas a ocorrência, mas também a intensidade do problema.\n",
    "\n",
    "- Será avaliado se essa formulação pode ser útil para diferenciar níveis distintos de falhas."
   ]
  },
  {
   "cell_type": "code",
   "execution_count": 43,
   "id": "788d991d",
   "metadata": {},
   "outputs": [],
   "source": [
    "# Criar alvo: quantidade de falhas simultâneas \n",
    "df[\"num_falhas\"] = df[falha_cols].sum(axis=1)\n",
    "\n",
    "# Criando features (remover identificadores, variável constante, alvos)\n",
    "drop_cols_mc = [\"id\", \"id_produto\", \"umidade_relativa\", \"num_falhas\"] + falha_cols\n",
    "if \"falha_maquina\" in df.columns:\n",
    "    drop_cols_mc.append(\"falha_maquina\")\n",
    "\n",
    "# Criando alvo: quantidade de falhas simultâneas\n",
    "X_mc = df.drop(columns=[\"id\", \"id_produto\", \"umidade_relativa\"] + falha_cols + [\"falha_maquina\", \"num_falhas\"])\n",
    "X_mc = pd.get_dummies(X_mc, drop_first=True)\n",
    "y_mc = df[\"num_falhas\"].clip(upper=2)\n",
    "\n",
    "# Split dos dados em treino e teste\n",
    "X_train_mc, X_test_mc, y_train_mc, y_test_mc = train_test_split(X_mc, y_mc, test_size=0.2, random_state=42, stratify=y_mc)\n",
    "\n",
    "# Modelagem - Decision Tree para classificação multiclasse\n",
    "dt_mc = DecisionTreeClassifier(random_state=42, max_depth=6)\n",
    "dt_mc.fit(X_train_mc, y_train_mc)\n",
    "y_pred_dt_mc = dt_mc.predict(X_test_mc)"
   ]
  },
  {
   "cell_type": "markdown",
   "id": "1d9dcb65",
   "metadata": {},
   "source": [
    "#### Diagnóstico de desempenho"
   ]
  },
  {
   "cell_type": "markdown",
   "id": "3d399bc8",
   "metadata": {},
   "source": [
    "Ainda que esse modelo apresente uma acurácia muito alta, devido ao desbalanceamento entre os dados fornecidos, pois existem muito mais dados referentes a funcionamento sem falhas, esse modelo não se mostra muito útil na aplicação indicada.\n",
    "\n",
    "Isso pode ser facilmente visualizado pelo relatório e Matriz de Confusão abaixo."
   ]
  },
  {
   "cell_type": "code",
   "execution_count": 44,
   "id": "086ffc9f",
   "metadata": {},
   "outputs": [
    {
     "name": "stdout",
     "output_type": "stream",
     "text": [
      "Classification Report — Multiclasse (Decision Tree)\n",
      "              precision    recall  f1-score   support\n",
      "\n",
      "   Sem falha     0.9857    0.9970    0.9913      3676\n",
      "     1 falha     0.6000    0.2239    0.3261        67\n",
      "   2+ falhas     0.0000    0.0000    0.0000         2\n",
      "\n",
      "    accuracy                         0.9826      3745\n",
      "   macro avg     0.5286    0.4070    0.4391      3745\n",
      "weighted avg     0.9783    0.9826    0.9789      3745\n",
      "\n"
     ]
    },
    {
     "data": {
      "image/png": "[encoded data removed]",
      "text/plain": [
       "<Figure size 600x500 with 2 Axes>"
      ]
     },
     "metadata": {},
     "output_type": "display_data"
    },
    {
     "name": "stdout",
     "output_type": "stream",
     "text": [
      "Métricas Resumidas — Multiclasse\n",
      "Accuracy:             0.9826\n",
      "Balanced Accuracy:    0.4070  (média dos recalls por classe)\n",
      "MCC:                  0.3525  (correlação predito vs. real; -1 a +1)\n"
     ]
    }
   ],
   "source": [
    "classes_nomes = [\"Sem falha\", \"1 falha\", \"2+ falhas\"]\n",
    "\n",
    "# Classification Report\n",
    "print(\"Classification Report — Multiclasse (Decision Tree)\")\n",
    "print(classification_report(y_test_mc, y_pred_dt_mc, target_names=classes_nomes, digits=4))\n",
    "\n",
    "# Matriz de Confusão\n",
    "cm = confusion_matrix(y_test_mc, y_pred_dt_mc)\n",
    "plt.figure(figsize=(6,5))\n",
    "sns.heatmap(cm, annot=True, fmt=\"d\", cmap=\"Blues\",\n",
    "            xticklabels=classes_nomes, yticklabels=classes_nomes)\n",
    "plt.xlabel(\"Predito\")\n",
    "plt.ylabel(\"Verdadeiro\")\n",
    "plt.title(\"Matriz de Confusão — Multiclasse (Decision Tree)\")\n",
    "plt.show()\n",
    "\n",
    "# Métricas resumidas\n",
    "acc_mc     = accuracy_score(y_test_mc, y_pred_dt_mc)\n",
    "balacc_mc  = balanced_accuracy_score(y_test_mc, y_pred_dt_mc)\n",
    "mcc_mc     = matthews_corrcoef(y_test_mc, y_pred_dt_mc)\n",
    "\n",
    "print(\"Métricas Resumidas — Multiclasse\")\n",
    "print(f\"Accuracy:             {acc_mc:.4f}\")\n",
    "print(f\"Balanced Accuracy:    {balacc_mc:.4f}  (média dos recalls por classe)\")\n",
    "print(f\"MCC:                  {mcc_mc:.4f}  (correlação predito vs. real; -1 a +1)\")"
   ]
  },
  {
   "cell_type": "markdown",
   "id": "5654ebb0",
   "metadata": {},
   "source": [
    "##### Resumo dos resultados\n",
    "\n",
    "- Sem falha → precision ≈ 0.99, recall ≈ 1.00.\n",
    "\n",
    "- 1 falha → precision 0.60, recall 0.22.\n",
    "\n",
    "- 2+ falhas → recall 0.00, modelo ignora completamente essa classe.\n",
    "\n",
    "- Accuracy geral: 0.98 (aparentemente muito alto).\n",
    "\n",
    "- Balanced Accuracy: 0.41 (mostra o desbalanceamento).\n",
    "\n",
    "- MCC: 0.35 (baixa correlação real entre predito e verdadeiro).\n",
    "\n",
    "Qualidades:\n",
    "\n",
    "- Funciona muito bem para a classe majoritária (Sem falha).\n",
    "\n",
    "- Fácil de interpretar e rápido de treinar.\n",
    "\n",
    "Problemas:\n",
    "\n",
    "- Accuracy é enganosa: valor alto porque quase todas as amostras são “Sem falha”.\n",
    "\n",
    "- Recall das classes minoritárias é muito baixo, chegando a zero para “2+ falhas”.\n",
    "\n",
    "- Balanced Accuracy e MCC revelam o fracasso do modelo em lidar com desbalanceamento."
   ]
  },
  {
   "cell_type": "markdown",
   "id": "a92b6ec0",
   "metadata": {},
   "source": [
    "#### DataFrame teste"
   ]
  },
  {
   "cell_type": "markdown",
   "id": "bfe9f1c1",
   "metadata": {},
   "source": [
    "- Após o treinamento e avaliação dos modelos com o conjunto de dados rotulado, aplicamos agora o método no novo DataFrame de teste. Este conjunto não contém rótulos nem colunas de falha, de modo que a análise se limita à geração de previsões a partir das variáveis disponíveis."
   ]
  },
  {
   "cell_type": "code",
   "execution_count": 45,
   "id": "14b55f2f",
   "metadata": {},
   "outputs": [
    {
     "name": "stdout",
     "output_type": "stream",
     "text": [
      "      id  pred_num_falhas pred_label\n",
      "0  35260                0  Sem falha\n",
      "1  35261                0  Sem falha\n",
      "2  35262                0  Sem falha\n",
      "3  35263                0  Sem falha\n",
      "4  35264                0  Sem falha\n"
     ]
    }
   ],
   "source": [
    "# Cópia do df de teste\n",
    "df_test_mc = df_test.copy()\n",
    "\n",
    "# Seleção de features igual ao treino\n",
    "drop_cols_mc = [\"id\", \"id_produto\", \"umidade_relativa\"]\n",
    "X_test_mc_new = pd.get_dummies(\n",
    "    df_test_mc.drop(columns=[c for c in drop_cols_mc if c in df_test_mc.columns]),\n",
    "    drop_first=True\n",
    ")\n",
    "\n",
    "# Alinhando colunas ao treino\n",
    "X_test_mc_new = X_test_mc_new.reindex(columns=X_train_mc.columns, fill_value=0)\n",
    "\n",
    "y_pred_mc = dt_mc.predict(X_test_mc_new)\n",
    "\n",
    "# Resultado\n",
    "label_map_mc = {0: \"Sem falha\", 1: \"1 falha\", 2: \"2+ falhas\"}\n",
    "\n",
    "# DataFrame de resultados\n",
    "pred_mc_df = pd.DataFrame({\n",
    "    \"id\": df_test_mc[\"id\"] if \"id\" in df_test_mc.columns else range(len(df_test_mc)),\n",
    "    \"pred_num_falhas\": y_pred_mc,\n",
    "    \"pred_label\": pd.Series(y_pred_mc).map(label_map_mc)\n",
    "})\n",
    "print(pred_mc_df.head()) # Visualização das primeiras linhas\n",
    "pred_mc_df.to_csv('predicoes_modelo_multiclasse.csv', index=False) # Salvamento do resultado"
   ]
  },
  {
   "cell_type": "code",
   "execution_count": 46,
   "id": "dad8c1e3",
   "metadata": {},
   "outputs": [
    {
     "name": "stdout",
     "output_type": "stream",
     "text": [
      "Distribuição de previsões — Multiclasse (Decision Tree)\n",
      "pred_label\n",
      "Sem falha    0.99\n",
      "1 falha      0.01\n",
      "2+ falhas    0.00\n",
      "Name: proportion, dtype: float64\n"
     ]
    }
   ],
   "source": [
    "# Distribuição das previsões\n",
    "print(\"Distribuição de previsões — Multiclasse (Decision Tree)\")\n",
    "print(pred_mc_df[\"pred_label\"].value_counts(normalize=True).round(3))"
   ]
  },
  {
   "cell_type": "markdown",
   "id": "f6e512e6",
   "metadata": {},
   "source": [
    "### Método Multirrótolo - Random Forest"
   ]
  },
  {
   "cell_type": "markdown",
   "id": "89db4b08",
   "metadata": {},
   "source": [
    "- Neste método, cada tipo de falha é tratado como uma variável de saída independente, permitindo que múltiplas falhas sejam previstas ao mesmo tempo.\n",
    "\n",
    "- A abordagem possibilita identificar quais falhas específicas ocorrem em cada amostra.\n",
    "\n",
    "- Será investigado se o modelo consegue capturar bem tanto falhas mais frequentes quanto falhas mais raras."
   ]
  },
  {
   "cell_type": "code",
   "execution_count": 47,
   "id": "462ca6d7",
   "metadata": {},
   "outputs": [],
   "source": [
    "# Criando features (remover identificadores, variável possivelmente constante e as colunas-alvo)\n",
    "drop_cols_mr = [\"id\", \"id_produto\", \"umidade_relativa\"] + falha_cols\n",
    "if \"falha_maquina\" in df.columns:\n",
    "    drop_cols_mr.append(\"falha_maquina\")\n",
    "\n",
    "X_mr = df.drop(columns=drop_cols_mr)\n",
    "X_mr = pd.get_dummies(X_mr, drop_first=True)\n",
    "\n",
    "# Alvo multirrótulo: cada falha é uma coluna binária\n",
    "y_mr = df[falha_cols].astype(int)\n",
    "\n",
    "# Split dos dados em treino e teste\n",
    "# (estratificar pela soma de falhas capada ajuda no balanceamento sem alterar y_mr)\n",
    "strata_mr = y_mr.sum(axis=1).clip(upper=2)  # 0, 1, 2+\n",
    "X_train_mr, X_test_mr, y_train_mr, y_test_mr = train_test_split(\n",
    "    X_mr, y_mr, test_size=0.2, random_state=42, stratify=strata_mr\n",
    ")\n",
    "\n",
    "# Modelagem — Random Forest em configuração MultiOutput (um RF por rótulo)\n",
    "rf_base = RandomForestClassifier(random_state=42, n_estimators=200, max_depth=10, n_jobs=-1)\n",
    "rf_mr = MultiOutputClassifier(rf_base)\n",
    "rf_mr.fit(X_train_mr, y_train_mr)\n",
    "\n",
    "# Predições\n",
    "y_pred_rf_mr = rf_mr.predict(X_test_mr)"
   ]
  },
  {
   "cell_type": "markdown",
   "id": "9545c32c",
   "metadata": {},
   "source": [
    "#### Diagnóstico de desempenho"
   ]
  },
  {
   "cell_type": "code",
   "execution_count": 48,
   "id": "4cc946e7",
   "metadata": {},
   "outputs": [
    {
     "name": "stdout",
     "output_type": "stream",
     "text": [
      "Classification Report — Multirrótulo (RF MultiOutput)\n",
      "                                 precision    recall  f1-score   support\n",
      "\n",
      "FDF (Falha Desgaste Ferramenta)     1.0000    0.3333    0.5000         6\n",
      "   FDC (Falha Dissipacao Calor)     0.9048    0.9048    0.9048        21\n",
      "            FP (Falha Potencia)     0.9091    0.6250    0.7407        16\n",
      "   FTE (Falha Tensao Excessiva)     0.7778    0.3684    0.5000        19\n",
      "           FA (Falha Aleatoria)     1.0000    0.2222    0.3636         9\n",
      "\n",
      "                      micro avg     0.8889    0.5634    0.6897        71\n",
      "                      macro avg     0.9183    0.4907    0.6018        71\n",
      "                   weighted avg     0.8919    0.5634    0.6567        71\n",
      "                    samples avg     0.0104    0.0103    0.0103        71\n",
      "\n"
     ]
    },
    {
     "data": {
      "image/png": "[encoded data removed]",
      "text/plain": [
       "<Figure size 1200x1200 with 6 Axes>"
      ]
     },
     "metadata": {},
     "output_type": "display_data"
    },
    {
     "data": {
      "text/plain": [
       "<Figure size 640x480 with 0 Axes>"
      ]
     },
     "metadata": {},
     "output_type": "display_data"
    },
    {
     "name": "stdout",
     "output_type": "stream",
     "text": [
      "Métricas adcionais — Multirrótulo\n",
      "Accuracy (Exact Match): 0.9915\n",
      "Jaccard (samples):      0.0103\n",
      "Hamming Loss:           0.0019  (fração média de rótulos errados por amostra)\n"
     ]
    }
   ],
   "source": [
    "# Classification Report\n",
    "print(\"Classification Report — Multirrótulo (RF MultiOutput)\")\n",
    "print(classification_report(y_test_mr, y_pred_rf_mr, target_names=falha_cols, digits=4, zero_division=0))\n",
    "\n",
    "# Matriz de Confusão\n",
    "fig, axes = plt.subplots(3, 2, figsize=(12, 12))  # 3 linhas, 2 colunas\n",
    "axes = axes.flatten()\n",
    "\n",
    "for i, col in enumerate(falha_cols):\n",
    "    cm = confusion_matrix(y_test_mr[col], y_pred_rf_mr[:, i])\n",
    "    sns.heatmap(cm, annot=True, fmt=\"d\", cmap=\"Blues\", cbar=False,\n",
    "                xticklabels=[\"Não\", \"Sim\"], yticklabels=[\"Não\", \"Sim\"],\n",
    "                ax=axes[i])\n",
    "    axes[i].set_title(col, fontsize=11)\n",
    "    axes[i].set_xlabel(\"Predito\")\n",
    "    axes[i].set_ylabel(\"Verdadeiro\")\n",
    "\n",
    "# Desliga os subplots sobrando\n",
    "for j in range(len(falha_cols), len(axes)):\n",
    "    axes[j].axis(\"off\")\n",
    "\n",
    "plt.tight_layout()\n",
    "plt.show()\n",
    "\n",
    "fig.delaxes(axes[-1]) # remove o último eixo se não for usado\n",
    "\n",
    "plt.tight_layout()\n",
    "plt.show()\n",
    "\n",
    "# Métricas adicionais\n",
    "y_true = y_test_mr[falha_cols].values\n",
    "y_pred = y_pred_rf_mr\n",
    "\n",
    "subset_acc   = accuracy_score(y_true, y_pred)  # equaivalente a \"Accuracy\"\n",
    "jacc_samples = jaccard_score(y_true, y_pred, average=\"samples\", zero_division=0) # média do Jaccard por amostra\n",
    "hamm         = hamming_loss(y_true, y_pred) # fração média de rótulos errados por amostra\n",
    "\n",
    "print(\"Métricas adcionais — Multirrótulo\")\n",
    "print(f\"Accuracy (Exact Match): {subset_acc:.4f}\")\n",
    "print(f\"Jaccard (samples):      {jacc_samples:.4f}\")\n",
    "print(f\"Hamming Loss:           {hamm:.4f}  (fração média de rótulos errados por amostra)\")"
   ]
  },
  {
   "cell_type": "markdown",
   "id": "aadad80e",
   "metadata": {},
   "source": [
    "Resumo dos resultados\n",
    "\n",
    "- Falhas comuns (FDC, FP) → precision e recall razoáveis (0.62–0.90).\n",
    "\n",
    "- Falhas raras (FDF, FA) → recall muito baixo (0.22–0.33).\n",
    "\n",
    "Métricas globais:\n",
    "\n",
    "- Micro avg F1: 0.69 (melhor que multiclasse, mas longe do ideal).\n",
    "\n",
    "- Subset Accuracy: 0.99 (aparentemente excelente, mas enganoso: quase sempre acerta “sem falha”).\n",
    "\n",
    "- Jaccard (samples): 0.01 → mostra que quase nunca prevê o conjunto de falhas completo.\n",
    "\n",
    "- Hamming Loss: 0.0019 → parece baixo, mas também é reflexo do desbalanceamento.\n",
    "\n",
    "Qualidades:\n",
    "\n",
    "- Permite prever quais falhas ocorrem, trazendo granularidade.\n",
    "\n",
    "- Melhor em falhas mais frequentes (FDC, FP).\n",
    "\n",
    "- Random Forest tende a ser robusto a ruídos.\n",
    "\n",
    "Problemas:\n",
    "\n",
    "- Falhas raras continuam quase invisíveis para o modelo.\n",
    "\n",
    "- Subset Accuracy é ilusória, já que prever tudo como “sem falha” dá valor alto.\n",
    "\n",
    "- Jaccard expõe a limitação real: quase nunca acerta o conjunto completo de falhas."
   ]
  },
  {
   "cell_type": "markdown",
   "id": "70f4ab68",
   "metadata": {},
   "source": [
    "#### DataFrame teste"
   ]
  },
  {
   "cell_type": "markdown",
   "id": "973bd8fe",
   "metadata": {},
   "source": [
    "- Após o treinamento e avaliação dos modelos com o conjunto de dados rotulado, aplicamos agora o método no novo DataFrame de teste. Este conjunto não contém rótulos nem colunas de falha, de modo que a análise se limita à geração de previsões a partir das variáveis disponíveis."
   ]
  },
  {
   "cell_type": "code",
   "execution_count": 49,
   "id": "87cef14a",
   "metadata": {},
   "outputs": [
    {
     "name": "stdout",
     "output_type": "stream",
     "text": [
      "      id  FDF (Falha Desgaste Ferramenta)  FDC (Falha Dissipacao Calor)  \\\n",
      "0  35260                                0                             0   \n",
      "1  35261                                0                             0   \n",
      "2  35262                                0                             0   \n",
      "3  35263                                0                             0   \n",
      "4  35264                                0                             0   \n",
      "\n",
      "   FP (Falha Potencia)  FTE (Falha Tensao Excessiva)  FA (Falha Aleatoria)  \n",
      "0                    0                             0                     0  \n",
      "1                    0                             0                     0  \n",
      "2                    0                             0                     0  \n",
      "3                    0                             0                     0  \n",
      "4                    0                             0                     0  \n"
     ]
    }
   ],
   "source": [
    "# Cópia do df de teste\n",
    "df_test_mr = df_test.copy()\n",
    "\n",
    "# Seleção de features igual ao treino\n",
    "drop_cols_mr = [\"id\", \"id_produto\", \"umidade_relativa\"]\n",
    "X_test_mr_new = pd.get_dummies(\n",
    "    df_test_mr.drop(columns=[c for c in drop_cols_mr if c in df_test_mr.columns]),\n",
    "    drop_first=True\n",
    ")\n",
    "\n",
    "# Alinhando colunas ao treino\n",
    "X_test_mr_new = X_test_mr_new.reindex(columns=X_train_mr.columns, fill_value=0)\n",
    "\n",
    "Y_pred_mr = rf_mr.predict(X_test_mr_new)  # matriz (n_amostras × n_falhas)\n",
    "\n",
    "pred_mr_df = pd.DataFrame(Y_pred_mr, columns=falha_cols) # DataFrame das previsões\n",
    "\n",
    "# Adiciona coluna 'id' no df de teste\n",
    "pred_mr_df.insert(0, \"id\", df_test_mr[\"id\"] if \"id\" in df_test_mr.columns else range(len(df_test_mr)))\n",
    "print(pred_mr_df.head()) # Visualização das primeiras linhas\n",
    "pred_mr_df.to_csv('predicoes_modelo_multirrotulo.csv', index=False) # Salvamento do resultado"
   ]
  },
  {
   "cell_type": "code",
   "execution_count": 50,
   "id": "08e9a18a",
   "metadata": {},
   "outputs": [
    {
     "name": "stdout",
     "output_type": "stream",
     "text": [
      "Distribuição de previsões — Multirrótulo\n",
      "FDF (Falha Desgaste Ferramenta)    0\n",
      "FDC (Falha Dissipacao Calor)       0\n",
      "FP (Falha Potencia)                0\n",
      "FTE (Falha Tensao Excessiva)       0\n",
      "FA (Falha Aleatoria)               0\n",
      "dtype: int64\n"
     ]
    }
   ],
   "source": [
    "# Distribuição das previsões\n",
    "print(\"Distribuição de previsões — Multirrótulo\")\n",
    "print(pred_mr_df[falha_cols].sum().sort_values(ascending=False))"
   ]
  }
 ],
 "metadata": {
  "kernelspec": {
   "display_name": "bootcamp.venv",
   "language": "python",
   "name": "python3"
  },
  "language_info": {
   "codemirror_mode": {
    "name": "ipython",
    "version": 3
   },
   "file_extension": ".py",
   "mimetype": "text/x-python",
   "name": "python",
   "nbconvert_exporter": "python",
   "pygments_lexer": "ipython3",
   "version": "3.13.6"
  }
 },
 "nbformat": 4,
 "nbformat_minor": 5
}
